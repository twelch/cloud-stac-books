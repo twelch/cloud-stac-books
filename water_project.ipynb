{
  "nbformat": 4,
  "nbformat_minor": 0,
  "metadata": {
    "colab": {
      "provenance": []
    },
    "kernelspec": {
      "name": "python3",
      "display_name": "Python 3"
    },
    "language_info": {
      "name": "python"
    }
  },
  "cells": [
    {
      "cell_type": "code",
      "execution_count": null,
      "metadata": {
        "id": "FTvsOCKZ1SLp"
      },
      "outputs": [],
      "source": [
        "!pip install --upgrade geopandas\n",
        "!pip install --upgrade rasterio"
      ]
    },
    {
      "cell_type": "code",
      "source": [
        "import geopandas\n",
        "import fiona\n",
        "import rasterio"
      ],
      "metadata": {
        "id": "2OabWGiB2jxc"
      },
      "execution_count": null,
      "outputs": []
    },
    {
      "cell_type": "code",
      "source": [
        "url = \"http://storage.googleapis.com/dotsconnect-data1/wbdhu12_a_us_september2022.fgb\"\n"
      ],
      "metadata": {
        "id": "pFmG0ER51maJ"
      },
      "execution_count": null,
      "outputs": []
    },
    {
      "cell_type": "markdown",
      "source": [
        "Confirm that flatgeobuf is supported"
      ],
      "metadata": {
        "id": "zzhsuuMI7W6F"
      }
    },
    {
      "cell_type": "code",
      "source": [
        "fiona.supported_drivers"
      ],
      "metadata": {
        "id": "S1Cx--WW3FlZ"
      },
      "execution_count": null,
      "outputs": []
    },
    {
      "cell_type": "markdown",
      "source": [
        "Fetch a subset of data for area of interest"
      ],
      "metadata": {
        "id": "5FSIjUc88Cvc"
      }
    },
    {
      "cell_type": "code",
      "source": [
        "bbox = (-124.902204,44.600125,-121.983193,49.100936)\n",
        "df = geopandas.read_file(url, bbox=bbox)"
      ],
      "metadata": {
        "id": "ocLUrtjr3KvX"
      },
      "execution_count": null,
      "outputs": []
    },
    {
      "cell_type": "code",
      "source": [
        "df.plot(figsize=(10, 5))"
      ],
      "metadata": {
        "id": "d-EoQjK76XpP"
      },
      "execution_count": null,
      "outputs": []
    },
    {
      "cell_type": "markdown",
      "source": [
        "Save subset to disk for download"
      ],
      "metadata": {
        "id": "h4LDsbKqAQ0S"
      }
    },
    {
      "cell_type": "code",
      "source": [
        "df.to_file(\"huc.gpkg\")"
      ],
      "metadata": {
        "id": "QVYqWCxz9_eA"
      },
      "execution_count": null,
      "outputs": []
    }
  ]
}